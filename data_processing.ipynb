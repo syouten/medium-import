{
  "nbformat": 4,
  "nbformat_minor": 0,
  "metadata": {
    "colab": {
      "provenance": [],
      "authorship_tag": "ABX9TyOBn3MT4//+8O1T0VEzm7m5",
      "include_colab_link": true
    },
    "kernelspec": {
      "name": "python3",
      "display_name": "Python 3"
    },
    "language_info": {
      "name": "python"
    }
  },
  "cells": [
    {
      "cell_type": "markdown",
      "metadata": {
        "id": "view-in-github",
        "colab_type": "text"
      },
      "source": [
        "<a href=\"https://colab.research.google.com/github/syouten/medium-import/blob/main/data_processing.ipynb\" target=\"_parent\"><img src=\"https://colab.research.google.com/assets/colab-badge.svg\" alt=\"Open In Colab\"/></a>"
      ]
    },
    {
      "cell_type": "code",
      "source": [
        "pip install java"
      ],
      "metadata": {
        "colab": {
          "base_uri": "https://localhost:8080/"
        },
        "id": "fzyyij4lAb0q",
        "outputId": "af36d1c4-3d00-4603-de36-4eaf28b9b51c"
      },
      "execution_count": 41,
      "outputs": [
        {
          "output_type": "stream",
          "name": "stdout",
          "text": [
            "\u001b[31mERROR: Could not find a version that satisfies the requirement java (from versions: none)\u001b[0m\u001b[31m\n",
            "\u001b[0m\u001b[31mERROR: No matching distribution found for java\u001b[0m\u001b[31m\n",
            "\u001b[0m"
          ]
        }
      ]
    },
    {
      "cell_type": "code",
      "source": [
        "from pyspark.sql import SparkSession\n",
        "import pyspark.sql.functions as F"
      ],
      "metadata": {
        "id": "FdnYqJDyB45Z"
      },
      "execution_count": 11,
      "outputs": []
    },
    {
      "cell_type": "code",
      "source": [
        "jdbc_path = \"C:\\\\Users\\\\JiaHan\\\\AppData\\\\Local\\\\Microsoft JDBC Driver 4.2 for SQL Server\\\\sqljdbc_4.2\\\\enu\\\\jre8\\\\sqljdbc42.jar\""
      ],
      "metadata": {
        "id": "lWqGwj8XRHC0"
      },
      "execution_count": 47,
      "outputs": []
    },
    {
      "cell_type": "code",
      "source": [
        "\n",
        "# Create Spark session\n",
        "spark = SparkSession.builder \\\n",
        "    .appName(\"CSV Loader\") \\\n",
        "    .config(\"spark.driver.extraClassPath\",jdbc_path)\\\n",
        "    .config('spark.executor.extraClassPath',jdbc_path)\\\n",
        "    .getOrCreate()\n"
      ],
      "metadata": {
        "id": "EDCX5Rr0B7l3"
      },
      "execution_count": 82,
      "outputs": []
    },
    {
      "cell_type": "code",
      "source": [
        "file_path = \"/content/homework/data/ADDRESS.csv\""
      ],
      "metadata": {
        "id": "dPLr-WA1B9QC"
      },
      "execution_count": 83,
      "outputs": []
    },
    {
      "cell_type": "code",
      "source": [
        "\n",
        "# Load CSV data\n",
        "# Replace 'path/to/your/file.csv' with your actual file path\n",
        "df = spark.read.csv(file_path, header=True, inferSchema=True)\n",
        "\n",
        "# Show the loaded DataFrame\n",
        "df.show()\n",
        "\n",
        "# Optionally: Print the schema of the DataFrame\n",
        "df.printSchema()\n"
      ],
      "metadata": {
        "colab": {
          "base_uri": "https://localhost:8080/"
        },
        "id": "604zCSytAx46",
        "outputId": "12e63a04-ed5a-43c1-c611-f24fb4c740a9"
      },
      "execution_count": 84,
      "outputs": [
        {
          "output_type": "stream",
          "name": "stdout",
          "text": [
            "+--------------------+---------+--------------------+--------------------+----------------+------+-----------------+\n",
            "|        address_guid|is_active|              line_1|              line_2|          line_3|line_4|is_person_address|\n",
            "+--------------------+---------+--------------------+--------------------+----------------+------+-----------------+\n",
            "|4649B5E3-4F6C-48B...|        1|21 BUKIT BATOK CR...|#23-72/73 WCEGA T...|SINGAPORE 658065|  NULL|                0|\n",
            "|5B671354-1ACE-4B9...|        0|     16 JALAN KILANG|#05-01 HOI HUP BU...|SINGAPORE 159416|  NULL|                0|\n",
            "|CABDCD89-5F62-42C...|        0|343 ANG MO KIO AV...|            #03-2176|SINGAPORE 560343|  NULL|                1|\n",
            "|526D596F-F0DF-415...|        0|MUHLENREDDER NO.1...|             GERMANY|            NULL|  NULL|                1|\n",
            "|83B7FFC1-F1D9-4C5...|        0|170 UPPER BUKIT T...|#02-10 BT TIMAH S...|SINGAPORE 588179|  NULL|                0|\n",
            "|CF31328A-8004-431...|        0|     32 MAXWELL ROAD|  #03-07 WHITE HOUSE|SINGAPORE 069115|  NULL|                0|\n",
            "|A13349F0-124B-44E...|        0|39 CLEMENTI CRESCENT|      CLEMENTI GREEN|SINGAPORE 599553|  NULL|                1|\n",
            "|3A49DED0-4BA6-4EC...|        1|6 EU TONG SEN STREET|  #B1-56 THE CENTRAL|SINGAPORE 059817|  NULL|                0|\n",
            "|3766AA09-8AAB-445...|        0|       10 ANSON ROAD|#35-11 INTERNATIO...|SINGAPORE 079903|  NULL|                0|\n",
            "|5FE51893-22ED-4B0...|        0|115 PASIR RIS STR...|             #02-557|SINGAPORE 510115|  NULL|                0|\n",
            "|F0B0BBE9-5921-498...|        0|935 TAMPINES STRE...|             #08-339|SINGAPORE 520935|  NULL|                0|\n",
            "|67BAB52C-2C51-464...|        0|       54 PIPIT ROAD|              #07-52|SINGAPORE 370054|  NULL|                1|\n",
            "|19B9D30D-12C5-492...|        0|180A RIVERVALE CR...|             #09-333|SINGAPORE 541180|  NULL|                0|\n",
            "|B9214C15-6C57-48A...|        0|    34 TUAS CRESCENT|    SINGAPORE 638723|            NULL|  NULL|                0|\n",
            "|3F2C8645-4D75-48B...|        0|352 ANG MO KIO ST...|             #30-131|SINGAPORE 560352|  NULL|                0|\n",
            "|351BB71E-F043-445...|        1|     20 MAXWELL ROAD|#09-17 MAXWELL HOUSE|SINGAPORE 069113|  NULL|                0|\n",
            "|16DF39C6-8C9F-4E7...|        0|      156 SIMEI ROAD|             #07-334|SINGAPORE 520156|  NULL|                1|\n",
            "|EE583DE0-514B-4CA...|        1|55 SUNGEI KADUT LOOP|    SINGAPORE 729498|            NULL|  NULL|                0|\n",
            "|3C36ED18-DFC0-476...|        1|3RD FL 13 SUBLANE...|CHUNGKING N.RD SE...|            NULL|  NULL|                1|\n",
            "|4C20A68B-762E-460...|        1|46 JALAN BUKIT HO...|             #01-876|SINGAPORE 160046|  NULL|                0|\n",
            "+--------------------+---------+--------------------+--------------------+----------------+------+-----------------+\n",
            "only showing top 20 rows\n",
            "\n",
            "root\n",
            " |-- address_guid: string (nullable = true)\n",
            " |-- is_active: string (nullable = true)\n",
            " |-- line_1: string (nullable = true)\n",
            " |-- line_2: string (nullable = true)\n",
            " |-- line_3: string (nullable = true)\n",
            " |-- line_4: string (nullable = true)\n",
            " |-- is_person_address: integer (nullable = true)\n",
            "\n"
          ]
        }
      ]
    },
    {
      "cell_type": "code",
      "source": [
        "columns_list = [\"line_1\",\"line_2\",\"line_3\",\"line_4\"]"
      ],
      "metadata": {
        "id": "zpFcRBpLDPpY"
      },
      "execution_count": 85,
      "outputs": []
    },
    {
      "cell_type": "code",
      "source": [
        "for c in columns_list:\n",
        "  df = df.withColumn(c,F.coalesce(c,F.lit(\"\")))"
      ],
      "metadata": {
        "id": "kRnMk_XQDTdH"
      },
      "execution_count": 86,
      "outputs": []
    },
    {
      "cell_type": "code",
      "source": [
        "df.show()"
      ],
      "metadata": {
        "colab": {
          "base_uri": "https://localhost:8080/"
        },
        "id": "vu1MEddPDhQZ",
        "outputId": "ff9d8cd9-727a-492a-c97f-97464a5bb4ab"
      },
      "execution_count": 65,
      "outputs": [
        {
          "output_type": "stream",
          "name": "stdout",
          "text": [
            "+--------------------+---------+--------------------+--------------------+----------------+------+-----------------+\n",
            "|        address_guid|is_active|              line_1|              line_2|          line_3|line_4|is_person_address|\n",
            "+--------------------+---------+--------------------+--------------------+----------------+------+-----------------+\n",
            "|4649B5E3-4F6C-48B...|        1|21 BUKIT BATOK CR...|#23-72/73 WCEGA T...|SINGAPORE 658065|      |                0|\n",
            "|5B671354-1ACE-4B9...|        0|     16 JALAN KILANG|#05-01 HOI HUP BU...|SINGAPORE 159416|      |                0|\n",
            "|CABDCD89-5F62-42C...|        0|343 ANG MO KIO AV...|            #03-2176|SINGAPORE 560343|      |                1|\n",
            "|526D596F-F0DF-415...|        0|MUHLENREDDER NO.1...|             GERMANY|                |      |                1|\n",
            "|83B7FFC1-F1D9-4C5...|        0|170 UPPER BUKIT T...|#02-10 BT TIMAH S...|SINGAPORE 588179|      |                0|\n",
            "|CF31328A-8004-431...|        0|     32 MAXWELL ROAD|  #03-07 WHITE HOUSE|SINGAPORE 069115|      |                0|\n",
            "|A13349F0-124B-44E...|        0|39 CLEMENTI CRESCENT|      CLEMENTI GREEN|SINGAPORE 599553|      |                1|\n",
            "|3A49DED0-4BA6-4EC...|        1|6 EU TONG SEN STREET|  #B1-56 THE CENTRAL|SINGAPORE 059817|      |                0|\n",
            "|3766AA09-8AAB-445...|        0|       10 ANSON ROAD|#35-11 INTERNATIO...|SINGAPORE 079903|      |                0|\n",
            "|5FE51893-22ED-4B0...|        0|115 PASIR RIS STR...|             #02-557|SINGAPORE 510115|      |                0|\n",
            "|F0B0BBE9-5921-498...|        0|935 TAMPINES STRE...|             #08-339|SINGAPORE 520935|      |                0|\n",
            "|67BAB52C-2C51-464...|        0|       54 PIPIT ROAD|              #07-52|SINGAPORE 370054|      |                1|\n",
            "|19B9D30D-12C5-492...|        0|180A RIVERVALE CR...|             #09-333|SINGAPORE 541180|      |                0|\n",
            "|B9214C15-6C57-48A...|        0|    34 TUAS CRESCENT|    SINGAPORE 638723|                |      |                0|\n",
            "|3F2C8645-4D75-48B...|        0|352 ANG MO KIO ST...|             #30-131|SINGAPORE 560352|      |                0|\n",
            "|351BB71E-F043-445...|        1|     20 MAXWELL ROAD|#09-17 MAXWELL HOUSE|SINGAPORE 069113|      |                0|\n",
            "|16DF39C6-8C9F-4E7...|        0|      156 SIMEI ROAD|             #07-334|SINGAPORE 520156|      |                1|\n",
            "|EE583DE0-514B-4CA...|        1|55 SUNGEI KADUT LOOP|    SINGAPORE 729498|                |      |                0|\n",
            "|3C36ED18-DFC0-476...|        1|3RD FL 13 SUBLANE...|CHUNGKING N.RD SE...|                |      |                1|\n",
            "|4C20A68B-762E-460...|        1|46 JALAN BUKIT HO...|             #01-876|SINGAPORE 160046|      |                0|\n",
            "+--------------------+---------+--------------------+--------------------+----------------+------+-----------------+\n",
            "only showing top 20 rows\n",
            "\n"
          ]
        }
      ]
    },
    {
      "cell_type": "code",
      "source": [
        "df = df.withColumn(\"full_address\", F.concat_ws(\" \",F.col(\"line_1\"),F.col(\"line_2\"),F.col(\"line_3\"),F.col(\"line_4\")))"
      ],
      "metadata": {
        "id": "VY6MjE0BCScZ"
      },
      "execution_count": 87,
      "outputs": []
    },
    {
      "cell_type": "code",
      "source": [
        "df.withColumn(\"SG Address Flag\",F.when(F.upper(df[\"full_address\"]).contains(\"SINGAPORE\"),\"Y\").otherwise(\"N\")).show(truncate=False)"
      ],
      "metadata": {
        "colab": {
          "base_uri": "https://localhost:8080/"
        },
        "id": "_C13pYOmCmM0",
        "outputId": "fa5e82b3-c486-4981-e18e-1b68216051c1"
      },
      "execution_count": 88,
      "outputs": [
        {
          "output_type": "stream",
          "name": "stdout",
          "text": [
            "+------------------------------------+---------+---------------------------------+---------------------------+----------------+------+-----------------+---------------------------------------------------------------------+---------------+\n",
            "|address_guid                        |is_active|line_1                           |line_2                     |line_3          |line_4|is_person_address|full_address                                                         |SG Address Flag|\n",
            "+------------------------------------+---------+---------------------------------+---------------------------+----------------+------+-----------------+---------------------------------------------------------------------+---------------+\n",
            "|4649B5E3-4F6C-48B6-B22B-000001B11D88|1        |21 BUKIT BATOK CRESCENT          |#23-72/73 WCEGA TOWER      |SINGAPORE 658065|      |0                |21 BUKIT BATOK CRESCENT #23-72/73 WCEGA TOWER SINGAPORE 658065       |Y              |\n",
            "|5B671354-1ACE-4B93-972D-00000790EC89|0        |16 JALAN KILANG                  |#05-01 HOI HUP BUILDING    |SINGAPORE 159416|      |0                |16 JALAN KILANG #05-01 HOI HUP BUILDING SINGAPORE 159416             |Y              |\n",
            "|CABDCD89-5F62-42C4-A4C9-00000AE8D257|0        |343 ANG MO KIO AVENUE 3          |#03-2176                   |SINGAPORE 560343|      |1                |343 ANG MO KIO AVENUE 3 #03-2176 SINGAPORE 560343                    |Y              |\n",
            "|526D596F-F0DF-4156-8EBE-00000F7A8E0D|0        |MUHLENREDDER NO.10, 24629 KISDORF|GERMANY                    |                |      |1                |MUHLENREDDER NO.10, 24629 KISDORF GERMANY                            |N              |\n",
            "|83B7FFC1-F1D9-4C59-AA8C-0000108BDA89|0        |170 UPPER BUKIT TIMAH ROAD       |#02-10 BT TIMAH SHPG CTR   |SINGAPORE 588179|      |0                |170 UPPER BUKIT TIMAH ROAD #02-10 BT TIMAH SHPG CTR SINGAPORE 588179 |Y              |\n",
            "|CF31328A-8004-431B-8A63-000010D19A3B|0        |32 MAXWELL ROAD                  |#03-07 WHITE HOUSE         |SINGAPORE 069115|      |0                |32 MAXWELL ROAD #03-07 WHITE HOUSE SINGAPORE 069115                  |Y              |\n",
            "|A13349F0-124B-44E9-83B0-000017690FEF|0        |39 CLEMENTI CRESCENT             |CLEMENTI GREEN             |SINGAPORE 599553|      |1                |39 CLEMENTI CRESCENT CLEMENTI GREEN SINGAPORE 599553                 |Y              |\n",
            "|3A49DED0-4BA6-4ECA-94B7-00001797E766|1        |6 EU TONG SEN STREET             |#B1-56 THE CENTRAL         |SINGAPORE 059817|      |0                |6 EU TONG SEN STREET #B1-56 THE CENTRAL SINGAPORE 059817             |Y              |\n",
            "|3766AA09-8AAB-4455-872F-000018B9BD43|0        |10 ANSON ROAD                    |#35-11 INTERNATIONAL PLAZA |SINGAPORE 079903|      |0                |10 ANSON ROAD #35-11 INTERNATIONAL PLAZA SINGAPORE 079903            |Y              |\n",
            "|5FE51893-22ED-4B00-A098-0000196B7533|0        |115 PASIR RIS STREET 11          |#02-557                    |SINGAPORE 510115|      |0                |115 PASIR RIS STREET 11 #02-557 SINGAPORE 510115                     |Y              |\n",
            "|F0B0BBE9-5921-498C-80F1-00001A2110AC|0        |935 TAMPINES STREET 91           |#08-339                    |SINGAPORE 520935|      |0                |935 TAMPINES STREET 91 #08-339 SINGAPORE 520935                      |Y              |\n",
            "|67BAB52C-2C51-464F-BD39-00001B578EDE|0        |54 PIPIT ROAD                    |#07-52                     |SINGAPORE 370054|      |1                |54 PIPIT ROAD #07-52 SINGAPORE 370054                                |Y              |\n",
            "|19B9D30D-12C5-4925-B8E3-00001CE0273B|0        |180A RIVERVALE CRESCENT          |#09-333                    |SINGAPORE 541180|      |0                |180A RIVERVALE CRESCENT #09-333 SINGAPORE 541180                     |Y              |\n",
            "|B9214C15-6C57-48AF-AFF7-00001D14CDF5|0        |34 TUAS CRESCENT                 |SINGAPORE 638723           |                |      |0                |34 TUAS CRESCENT SINGAPORE 638723                                    |Y              |\n",
            "|3F2C8645-4D75-48BC-B978-00001D38CD6F|0        |352 ANG MO KIO STREET 32         |#30-131                    |SINGAPORE 560352|      |0                |352 ANG MO KIO STREET 32 #30-131 SINGAPORE 560352                    |Y              |\n",
            "|351BB71E-F043-4452-AE6F-00001DA266AB|1        |20 MAXWELL ROAD                  |#09-17 MAXWELL HOUSE       |SINGAPORE 069113|      |0                |20 MAXWELL ROAD #09-17 MAXWELL HOUSE SINGAPORE 069113                |Y              |\n",
            "|16DF39C6-8C9F-4E79-838C-00001E615886|0        |156 SIMEI ROAD                   |#07-334                    |SINGAPORE 520156|      |1                |156 SIMEI ROAD #07-334 SINGAPORE 520156                              |Y              |\n",
            "|EE583DE0-514B-4CA6-8D80-000020C9C7EA|1        |55 SUNGEI KADUT LOOP             |SINGAPORE 729498           |                |      |0                |55 SUNGEI KADUT LOOP SINGAPORE 729498                                |Y              |\n",
            "|3C36ED18-DFC0-4769-9E3C-000028C2922D|1        |3RD FL 13 SUBLANE 5 LANE 190     |CHUNGKING N.RD SEC 4 TAIPEI|                |      |1                |3RD FL 13 SUBLANE 5 LANE 190 CHUNGKING N.RD SEC 4 TAIPEI             |N              |\n",
            "|4C20A68B-762E-460B-AEB4-000029225ED1|1        |46 JALAN BUKIT HO SWEE           |#01-876                    |SINGAPORE 160046|      |0                |46 JALAN BUKIT HO SWEE #01-876 SINGAPORE 160046                      |Y              |\n",
            "+------------------------------------+---------+---------------------------------+---------------------------+----------------+------+-----------------+---------------------------------------------------------------------+---------------+\n",
            "only showing top 20 rows\n",
            "\n"
          ]
        }
      ]
    },
    {
      "cell_type": "code",
      "source": [
        "# JDBC URL\n",
        "url = \"jdbc:sqlserver://DESKTOP-5SH9O1E\\SQLEXPRESS.database.windows.net:1433;database=TEST\"\n",
        "\n",
        "# Connection properties\n",
        "properties = {\n",
        "    \"driver\": \"com.microsoft.sqlserver.jdbc.SQLServerDriver\",\n",
        "    \"integratedSecurity\": \"true\"\n",
        "}\n",
        "\n"
      ],
      "metadata": {
        "id": "TITmJliFE34a"
      },
      "execution_count": 89,
      "outputs": []
    },
    {
      "cell_type": "code",
      "source": [
        "# Write the DataFrame to MS SQL\n",
        "df.write.jdbc(url=url, table=\"your_table_name\", mode=\"overwrite\", properties=properties)"
      ],
      "metadata": {
        "colab": {
          "base_uri": "https://localhost:8080/",
          "height": 1000
        },
        "id": "8l58Jq6pLzw8",
        "outputId": "50cb9101-ebd1-4c71-b7cd-d4079c9e8def"
      },
      "execution_count": 90,
      "outputs": [
        {
          "output_type": "error",
          "ename": "Py4JJavaError",
          "evalue": "An error occurred while calling o567.jdbc.\n: java.lang.ClassNotFoundException: com.microsoft.sqlserver.jdbc.SQLServerDriver\n\tat java.base/java.net.URLClassLoader.findClass(URLClassLoader.java:476)\n\tat java.base/java.lang.ClassLoader.loadClass(ClassLoader.java:594)\n\tat java.base/java.lang.ClassLoader.loadClass(ClassLoader.java:527)\n\tat org.apache.spark.sql.execution.datasources.jdbc.DriverRegistry$.register(DriverRegistry.scala:46)\n\tat org.apache.spark.sql.execution.datasources.jdbc.JDBCOptions.$anonfun$driverClass$1(JDBCOptions.scala:103)\n\tat org.apache.spark.sql.execution.datasources.jdbc.JDBCOptions.$anonfun$driverClass$1$adapted(JDBCOptions.scala:103)\n\tat scala.Option.foreach(Option.scala:407)\n\tat org.apache.spark.sql.execution.datasources.jdbc.JDBCOptions.<init>(JDBCOptions.scala:103)\n\tat org.apache.spark.sql.execution.datasources.jdbc.JdbcOptionsInWrite.<init>(JDBCOptions.scala:254)\n\tat org.apache.spark.sql.execution.datasources.jdbc.JdbcOptionsInWrite.<init>(JDBCOptions.scala:258)\n\tat org.apache.spark.sql.execution.datasources.jdbc.JdbcRelationProvider.createRelation(JdbcRelationProvider.scala:47)\n\tat org.apache.spark.sql.execution.datasources.SaveIntoDataSourceCommand.run(SaveIntoDataSourceCommand.scala:48)\n\tat org.apache.spark.sql.execution.command.ExecutedCommandExec.sideEffectResult$lzycompute(commands.scala:75)\n\tat org.apache.spark.sql.execution.command.ExecutedCommandExec.sideEffectResult(commands.scala:73)\n\tat org.apache.spark.sql.execution.command.ExecutedCommandExec.executeCollect(commands.scala:84)\n\tat org.apache.spark.sql.execution.QueryExecution$$anonfun$eagerlyExecuteCommands$1.$anonfun$applyOrElse$1(QueryExecution.scala:107)\n\tat org.apache.spark.sql.execution.SQLExecution$.$anonfun$withNewExecutionId$6(SQLExecution.scala:125)\n\tat org.apache.spark.sql.execution.SQLExecution$.withSQLConfPropagated(SQLExecution.scala:201)\n\tat org.apache.spark.sql.execution.SQLExecution$.$anonfun$withNewExecutionId$1(SQLExecution.scala:108)\n\tat org.apache.spark.sql.SparkSession.withActive(SparkSession.scala:900)\n\tat org.apache.spark.sql.execution.SQLExecution$.withNewExecutionId(SQLExecution.scala:66)\n\tat org.apache.spark.sql.execution.QueryExecution$$anonfun$eagerlyExecuteCommands$1.applyOrElse(QueryExecution.scala:107)\n\tat org.apache.spark.sql.execution.QueryExecution$$anonfun$eagerlyExecuteCommands$1.applyOrElse(QueryExecution.scala:98)\n\tat org.apache.spark.sql.catalyst.trees.TreeNode.$anonfun$transformDownWithPruning$1(TreeNode.scala:461)\n\tat org.apache.spark.sql.catalyst.trees.CurrentOrigin$.withOrigin(origin.scala:76)\n\tat org.apache.spark.sql.catalyst.trees.TreeNode.transformDownWithPruning(TreeNode.scala:461)\n\tat org.apache.spark.sql.catalyst.plans.logical.LogicalPlan.org$apache$spark$sql$catalyst$plans$logical$AnalysisHelper$$super$transformDownWithPruning(LogicalPlan.scala:32)\n\tat org.apache.spark.sql.catalyst.plans.logical.AnalysisHelper.transformDownWithPruning(AnalysisHelper.scala:267)\n\tat org.apache.spark.sql.catalyst.plans.logical.AnalysisHelper.transformDownWithPruning$(AnalysisHelper.scala:263)\n\tat org.apache.spark.sql.catalyst.plans.logical.LogicalPlan.transformDownWithPruning(LogicalPlan.scala:32)\n\tat org.apache.spark.sql.catalyst.plans.logical.LogicalPlan.transformDownWithPruning(LogicalPlan.scala:32)\n\tat org.apache.spark.sql.catalyst.trees.TreeNode.transformDown(TreeNode.scala:437)\n\tat org.apache.spark.sql.execution.QueryExecution.eagerlyExecuteCommands(QueryExecution.scala:98)\n\tat org.apache.spark.sql.execution.QueryExecution.commandExecuted$lzycompute(QueryExecution.scala:85)\n\tat org.apache.spark.sql.execution.QueryExecution.commandExecuted(QueryExecution.scala:83)\n\tat org.apache.spark.sql.execution.QueryExecution.assertCommandExecuted(QueryExecution.scala:142)\n\tat org.apache.spark.sql.DataFrameWriter.runCommand(DataFrameWriter.scala:869)\n\tat org.apache.spark.sql.DataFrameWriter.saveToV1Source(DataFrameWriter.scala:391)\n\tat org.apache.spark.sql.DataFrameWriter.saveInternal(DataFrameWriter.scala:364)\n\tat org.apache.spark.sql.DataFrameWriter.save(DataFrameWriter.scala:251)\n\tat org.apache.spark.sql.DataFrameWriter.jdbc(DataFrameWriter.scala:766)\n\tat java.base/jdk.internal.reflect.NativeMethodAccessorImpl.invoke0(Native Method)\n\tat java.base/jdk.internal.reflect.NativeMethodAccessorImpl.invoke(NativeMethodAccessorImpl.java:62)\n\tat java.base/jdk.internal.reflect.DelegatingMethodAccessorImpl.invoke(DelegatingMethodAccessorImpl.java:43)\n\tat java.base/java.lang.reflect.Method.invoke(Method.java:566)\n\tat py4j.reflection.MethodInvoker.invoke(MethodInvoker.java:244)\n\tat py4j.reflection.ReflectionEngine.invoke(ReflectionEngine.java:374)\n\tat py4j.Gateway.invoke(Gateway.java:282)\n\tat py4j.commands.AbstractCommand.invokeMethod(AbstractCommand.java:132)\n\tat py4j.commands.CallCommand.execute(CallCommand.java:79)\n\tat py4j.ClientServerConnection.waitForCommands(ClientServerConnection.java:182)\n\tat py4j.ClientServerConnection.run(ClientServerConnection.java:106)\n\tat java.base/java.lang.Thread.run(Thread.java:829)\n",
          "traceback": [
            "\u001b[0;31m---------------------------------------------------------------------------\u001b[0m",
            "\u001b[0;31mPy4JJavaError\u001b[0m                             Traceback (most recent call last)",
            "\u001b[0;32m<ipython-input-90-ca5a056a681e>\u001b[0m in \u001b[0;36m<cell line: 2>\u001b[0;34m()\u001b[0m\n\u001b[1;32m      1\u001b[0m \u001b[0;31m# Write the DataFrame to MS SQL\u001b[0m\u001b[0;34m\u001b[0m\u001b[0;34m\u001b[0m\u001b[0m\n\u001b[0;32m----> 2\u001b[0;31m \u001b[0mdf\u001b[0m\u001b[0;34m.\u001b[0m\u001b[0mwrite\u001b[0m\u001b[0;34m.\u001b[0m\u001b[0mjdbc\u001b[0m\u001b[0;34m(\u001b[0m\u001b[0murl\u001b[0m\u001b[0;34m=\u001b[0m\u001b[0murl\u001b[0m\u001b[0;34m,\u001b[0m \u001b[0mtable\u001b[0m\u001b[0;34m=\u001b[0m\u001b[0;34m\"your_table_name\"\u001b[0m\u001b[0;34m,\u001b[0m \u001b[0mmode\u001b[0m\u001b[0;34m=\u001b[0m\u001b[0;34m\"overwrite\"\u001b[0m\u001b[0;34m,\u001b[0m \u001b[0mproperties\u001b[0m\u001b[0;34m=\u001b[0m\u001b[0mproperties\u001b[0m\u001b[0;34m)\u001b[0m\u001b[0;34m\u001b[0m\u001b[0;34m\u001b[0m\u001b[0m\n\u001b[0m",
            "\u001b[0;32m/usr/local/lib/python3.10/dist-packages/pyspark/sql/readwriter.py\u001b[0m in \u001b[0;36mjdbc\u001b[0;34m(self, url, table, mode, properties)\u001b[0m\n\u001b[1;32m   1982\u001b[0m         \u001b[0;32mfor\u001b[0m \u001b[0mk\u001b[0m \u001b[0;32min\u001b[0m \u001b[0mproperties\u001b[0m\u001b[0;34m:\u001b[0m\u001b[0;34m\u001b[0m\u001b[0;34m\u001b[0m\u001b[0m\n\u001b[1;32m   1983\u001b[0m             \u001b[0mjprop\u001b[0m\u001b[0;34m.\u001b[0m\u001b[0msetProperty\u001b[0m\u001b[0;34m(\u001b[0m\u001b[0mk\u001b[0m\u001b[0;34m,\u001b[0m \u001b[0mproperties\u001b[0m\u001b[0;34m[\u001b[0m\u001b[0mk\u001b[0m\u001b[0;34m]\u001b[0m\u001b[0;34m)\u001b[0m\u001b[0;34m\u001b[0m\u001b[0;34m\u001b[0m\u001b[0m\n\u001b[0;32m-> 1984\u001b[0;31m         \u001b[0mself\u001b[0m\u001b[0;34m.\u001b[0m\u001b[0mmode\u001b[0m\u001b[0;34m(\u001b[0m\u001b[0mmode\u001b[0m\u001b[0;34m)\u001b[0m\u001b[0;34m.\u001b[0m\u001b[0m_jwrite\u001b[0m\u001b[0;34m.\u001b[0m\u001b[0mjdbc\u001b[0m\u001b[0;34m(\u001b[0m\u001b[0murl\u001b[0m\u001b[0;34m,\u001b[0m \u001b[0mtable\u001b[0m\u001b[0;34m,\u001b[0m \u001b[0mjprop\u001b[0m\u001b[0;34m)\u001b[0m\u001b[0;34m\u001b[0m\u001b[0;34m\u001b[0m\u001b[0m\n\u001b[0m\u001b[1;32m   1985\u001b[0m \u001b[0;34m\u001b[0m\u001b[0m\n\u001b[1;32m   1986\u001b[0m \u001b[0;34m\u001b[0m\u001b[0m\n",
            "\u001b[0;32m/usr/local/lib/python3.10/dist-packages/py4j/java_gateway.py\u001b[0m in \u001b[0;36m__call__\u001b[0;34m(self, *args)\u001b[0m\n\u001b[1;32m   1320\u001b[0m \u001b[0;34m\u001b[0m\u001b[0m\n\u001b[1;32m   1321\u001b[0m         \u001b[0manswer\u001b[0m \u001b[0;34m=\u001b[0m \u001b[0mself\u001b[0m\u001b[0;34m.\u001b[0m\u001b[0mgateway_client\u001b[0m\u001b[0;34m.\u001b[0m\u001b[0msend_command\u001b[0m\u001b[0;34m(\u001b[0m\u001b[0mcommand\u001b[0m\u001b[0;34m)\u001b[0m\u001b[0;34m\u001b[0m\u001b[0;34m\u001b[0m\u001b[0m\n\u001b[0;32m-> 1322\u001b[0;31m         return_value = get_return_value(\n\u001b[0m\u001b[1;32m   1323\u001b[0m             answer, self.gateway_client, self.target_id, self.name)\n\u001b[1;32m   1324\u001b[0m \u001b[0;34m\u001b[0m\u001b[0m\n",
            "\u001b[0;32m/usr/local/lib/python3.10/dist-packages/pyspark/errors/exceptions/captured.py\u001b[0m in \u001b[0;36mdeco\u001b[0;34m(*a, **kw)\u001b[0m\n\u001b[1;32m    177\u001b[0m     \u001b[0;32mdef\u001b[0m \u001b[0mdeco\u001b[0m\u001b[0;34m(\u001b[0m\u001b[0;34m*\u001b[0m\u001b[0ma\u001b[0m\u001b[0;34m:\u001b[0m \u001b[0mAny\u001b[0m\u001b[0;34m,\u001b[0m \u001b[0;34m**\u001b[0m\u001b[0mkw\u001b[0m\u001b[0;34m:\u001b[0m \u001b[0mAny\u001b[0m\u001b[0;34m)\u001b[0m \u001b[0;34m->\u001b[0m \u001b[0mAny\u001b[0m\u001b[0;34m:\u001b[0m\u001b[0;34m\u001b[0m\u001b[0;34m\u001b[0m\u001b[0m\n\u001b[1;32m    178\u001b[0m         \u001b[0;32mtry\u001b[0m\u001b[0;34m:\u001b[0m\u001b[0;34m\u001b[0m\u001b[0;34m\u001b[0m\u001b[0m\n\u001b[0;32m--> 179\u001b[0;31m             \u001b[0;32mreturn\u001b[0m \u001b[0mf\u001b[0m\u001b[0;34m(\u001b[0m\u001b[0;34m*\u001b[0m\u001b[0ma\u001b[0m\u001b[0;34m,\u001b[0m \u001b[0;34m**\u001b[0m\u001b[0mkw\u001b[0m\u001b[0;34m)\u001b[0m\u001b[0;34m\u001b[0m\u001b[0;34m\u001b[0m\u001b[0m\n\u001b[0m\u001b[1;32m    180\u001b[0m         \u001b[0;32mexcept\u001b[0m \u001b[0mPy4JJavaError\u001b[0m \u001b[0;32mas\u001b[0m \u001b[0me\u001b[0m\u001b[0;34m:\u001b[0m\u001b[0;34m\u001b[0m\u001b[0;34m\u001b[0m\u001b[0m\n\u001b[1;32m    181\u001b[0m             \u001b[0mconverted\u001b[0m \u001b[0;34m=\u001b[0m \u001b[0mconvert_exception\u001b[0m\u001b[0;34m(\u001b[0m\u001b[0me\u001b[0m\u001b[0;34m.\u001b[0m\u001b[0mjava_exception\u001b[0m\u001b[0;34m)\u001b[0m\u001b[0;34m\u001b[0m\u001b[0;34m\u001b[0m\u001b[0m\n",
            "\u001b[0;32m/usr/local/lib/python3.10/dist-packages/py4j/protocol.py\u001b[0m in \u001b[0;36mget_return_value\u001b[0;34m(answer, gateway_client, target_id, name)\u001b[0m\n\u001b[1;32m    324\u001b[0m             \u001b[0mvalue\u001b[0m \u001b[0;34m=\u001b[0m \u001b[0mOUTPUT_CONVERTER\u001b[0m\u001b[0;34m[\u001b[0m\u001b[0mtype\u001b[0m\u001b[0;34m]\u001b[0m\u001b[0;34m(\u001b[0m\u001b[0manswer\u001b[0m\u001b[0;34m[\u001b[0m\u001b[0;36m2\u001b[0m\u001b[0;34m:\u001b[0m\u001b[0;34m]\u001b[0m\u001b[0;34m,\u001b[0m \u001b[0mgateway_client\u001b[0m\u001b[0;34m)\u001b[0m\u001b[0;34m\u001b[0m\u001b[0;34m\u001b[0m\u001b[0m\n\u001b[1;32m    325\u001b[0m             \u001b[0;32mif\u001b[0m \u001b[0manswer\u001b[0m\u001b[0;34m[\u001b[0m\u001b[0;36m1\u001b[0m\u001b[0;34m]\u001b[0m \u001b[0;34m==\u001b[0m \u001b[0mREFERENCE_TYPE\u001b[0m\u001b[0;34m:\u001b[0m\u001b[0;34m\u001b[0m\u001b[0;34m\u001b[0m\u001b[0m\n\u001b[0;32m--> 326\u001b[0;31m                 raise Py4JJavaError(\n\u001b[0m\u001b[1;32m    327\u001b[0m                     \u001b[0;34m\"An error occurred while calling {0}{1}{2}.\\n\"\u001b[0m\u001b[0;34m.\u001b[0m\u001b[0;34m\u001b[0m\u001b[0;34m\u001b[0m\u001b[0m\n\u001b[1;32m    328\u001b[0m                     format(target_id, \".\", name), value)\n",
            "\u001b[0;31mPy4JJavaError\u001b[0m: An error occurred while calling o567.jdbc.\n: java.lang.ClassNotFoundException: com.microsoft.sqlserver.jdbc.SQLServerDriver\n\tat java.base/java.net.URLClassLoader.findClass(URLClassLoader.java:476)\n\tat java.base/java.lang.ClassLoader.loadClass(ClassLoader.java:594)\n\tat java.base/java.lang.ClassLoader.loadClass(ClassLoader.java:527)\n\tat org.apache.spark.sql.execution.datasources.jdbc.DriverRegistry$.register(DriverRegistry.scala:46)\n\tat org.apache.spark.sql.execution.datasources.jdbc.JDBCOptions.$anonfun$driverClass$1(JDBCOptions.scala:103)\n\tat org.apache.spark.sql.execution.datasources.jdbc.JDBCOptions.$anonfun$driverClass$1$adapted(JDBCOptions.scala:103)\n\tat scala.Option.foreach(Option.scala:407)\n\tat org.apache.spark.sql.execution.datasources.jdbc.JDBCOptions.<init>(JDBCOptions.scala:103)\n\tat org.apache.spark.sql.execution.datasources.jdbc.JdbcOptionsInWrite.<init>(JDBCOptions.scala:254)\n\tat org.apache.spark.sql.execution.datasources.jdbc.JdbcOptionsInWrite.<init>(JDBCOptions.scala:258)\n\tat org.apache.spark.sql.execution.datasources.jdbc.JdbcRelationProvider.createRelation(JdbcRelationProvider.scala:47)\n\tat org.apache.spark.sql.execution.datasources.SaveIntoDataSourceCommand.run(SaveIntoDataSourceCommand.scala:48)\n\tat org.apache.spark.sql.execution.command.ExecutedCommandExec.sideEffectResult$lzycompute(commands.scala:75)\n\tat org.apache.spark.sql.execution.command.ExecutedCommandExec.sideEffectResult(commands.scala:73)\n\tat org.apache.spark.sql.execution.command.ExecutedCommandExec.executeCollect(commands.scala:84)\n\tat org.apache.spark.sql.execution.QueryExecution$$anonfun$eagerlyExecuteCommands$1.$anonfun$applyOrElse$1(QueryExecution.scala:107)\n\tat org.apache.spark.sql.execution.SQLExecution$.$anonfun$withNewExecutionId$6(SQLExecution.scala:125)\n\tat org.apache.spark.sql.execution.SQLExecution$.withSQLConfPropagated(SQLExecution.scala:201)\n\tat org.apache.spark.sql.execution.SQLExecution$.$anonfun$withNewExecutionId$1(SQLExecution.scala:108)\n\tat org.apache.spark.sql.SparkSession.withActive(SparkSession.scala:900)\n\tat org.apache.spark.sql.execution.SQLExecution$.withNewExecutionId(SQLExecution.scala:66)\n\tat org.apache.spark.sql.execution.QueryExecution$$anonfun$eagerlyExecuteCommands$1.applyOrElse(QueryExecution.scala:107)\n\tat org.apache.spark.sql.execution.QueryExecution$$anonfun$eagerlyExecuteCommands$1.applyOrElse(QueryExecution.scala:98)\n\tat org.apache.spark.sql.catalyst.trees.TreeNode.$anonfun$transformDownWithPruning$1(TreeNode.scala:461)\n\tat org.apache.spark.sql.catalyst.trees.CurrentOrigin$.withOrigin(origin.scala:76)\n\tat org.apache.spark.sql.catalyst.trees.TreeNode.transformDownWithPruning(TreeNode.scala:461)\n\tat org.apache.spark.sql.catalyst.plans.logical.LogicalPlan.org$apache$spark$sql$catalyst$plans$logical$AnalysisHelper$$super$transformDownWithPruning(LogicalPlan.scala:32)\n\tat org.apache.spark.sql.catalyst.plans.logical.AnalysisHelper.transformDownWithPruning(AnalysisHelper.scala:267)\n\tat org.apache.spark.sql.catalyst.plans.logical.AnalysisHelper.transformDownWithPruning$(AnalysisHelper.scala:263)\n\tat org.apache.spark.sql.catalyst.plans.logical.LogicalPlan.transformDownWithPruning(LogicalPlan.scala:32)\n\tat org.apache.spark.sql.catalyst.plans.logical.LogicalPlan.transformDownWithPruning(LogicalPlan.scala:32)\n\tat org.apache.spark.sql.catalyst.trees.TreeNode.transformDown(TreeNode.scala:437)\n\tat org.apache.spark.sql.execution.QueryExecution.eagerlyExecuteCommands(QueryExecution.scala:98)\n\tat org.apache.spark.sql.execution.QueryExecution.commandExecuted$lzycompute(QueryExecution.scala:85)\n\tat org.apache.spark.sql.execution.QueryExecution.commandExecuted(QueryExecution.scala:83)\n\tat org.apache.spark.sql.execution.QueryExecution.assertCommandExecuted(QueryExecution.scala:142)\n\tat org.apache.spark.sql.DataFrameWriter.runCommand(DataFrameWriter.scala:869)\n\tat org.apache.spark.sql.DataFrameWriter.saveToV1Source(DataFrameWriter.scala:391)\n\tat org.apache.spark.sql.DataFrameWriter.saveInternal(DataFrameWriter.scala:364)\n\tat org.apache.spark.sql.DataFrameWriter.save(DataFrameWriter.scala:251)\n\tat org.apache.spark.sql.DataFrameWriter.jdbc(DataFrameWriter.scala:766)\n\tat java.base/jdk.internal.reflect.NativeMethodAccessorImpl.invoke0(Native Method)\n\tat java.base/jdk.internal.reflect.NativeMethodAccessorImpl.invoke(NativeMethodAccessorImpl.java:62)\n\tat java.base/jdk.internal.reflect.DelegatingMethodAccessorImpl.invoke(DelegatingMethodAccessorImpl.java:43)\n\tat java.base/java.lang.reflect.Method.invoke(Method.java:566)\n\tat py4j.reflection.MethodInvoker.invoke(MethodInvoker.java:244)\n\tat py4j.reflection.ReflectionEngine.invoke(ReflectionEngine.java:374)\n\tat py4j.Gateway.invoke(Gateway.java:282)\n\tat py4j.commands.AbstractCommand.invokeMethod(AbstractCommand.java:132)\n\tat py4j.commands.CallCommand.execute(CallCommand.java:79)\n\tat py4j.ClientServerConnection.waitForCommands(ClientServerConnection.java:182)\n\tat py4j.ClientServerConnection.run(ClientServerConnection.java:106)\n\tat java.base/java.lang.Thread.run(Thread.java:829)\n"
          ]
        }
      ]
    },
    {
      "cell_type": "code",
      "source": [],
      "metadata": {
        "id": "QBjgg6lzODIB"
      },
      "execution_count": null,
      "outputs": []
    }
  ]
}